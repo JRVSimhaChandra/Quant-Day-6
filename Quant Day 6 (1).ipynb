{
 "cells": [
  {
   "cell_type": "markdown",
   "id": "14119667-3025-4263-bfe5-c8e25625cd72",
   "metadata": {},
   "source": [
    "## Numerical Greeks Calculation"
   ]
  },
  {
   "cell_type": "markdown",
   "id": "bbd35bc3-b979-4bbc-b1fe-3913b81c6b62",
   "metadata": {},
   "source": [
    "## Setup"
   ]
  },
  {
   "cell_type": "code",
   "execution_count": 10,
   "id": "2fd68bff-9264-409c-bdb8-9bbfe2173381",
   "metadata": {},
   "outputs": [],
   "source": [
    "from QuantLib import *"
   ]
  },
  {
   "cell_type": "code",
   "execution_count": 9,
   "id": "9787f52a-fe9e-49f5-80ee-fe3e351386db",
   "metadata": {
    "scrolled": true
   },
   "outputs": [],
   "source": [
    "from QuantLib import Date, Settings\n",
    "\n",
    "# Define the evaluation date\n",
    "today = Date(8, October, 2014)\n",
    "Settings.instance().evaluationDate = today\n"
   ]
  },
  {
   "cell_type": "code",
   "execution_count": 12,
   "id": "b85a0c1a-b3f7-4ba3-9e48-9a9bb5a17da0",
   "metadata": {},
   "outputs": [],
   "source": [
    "## A Somewhat exotic option"
   ]
  },
  {
   "cell_type": "code",
   "execution_count": 13,
   "id": "b408a4b1-c47b-420d-b0a3-196c6973c4ab",
   "metadata": {},
   "outputs": [],
   "source": [
    "option = BarrierOption(Barrier.UpIn,\n",
    "                       120.0, #barrier\n",
    "                       0.0, #rebate\n",
    "                       PlainVanillaPayoff(Option.Call, 100.0),\n",
    "                       EuropeanExercise(Date(8, January, 2015)))"
   ]
  },
  {
   "cell_type": "code",
   "execution_count": 14,
   "id": "8fb26827-9ce0-4986-b886-05748a32a420",
   "metadata": {},
   "outputs": [],
   "source": [
    "u = SimpleQuote(100.0)\n",
    "r = SimpleQuote(0.01)\n",
    "sigma = SimpleQuote(0.20)"
   ]
  },
  {
   "cell_type": "code",
   "execution_count": 17,
   "id": "68b6fcdd-ef07-4203-a2de-7e1e3db9bcf3",
   "metadata": {
    "scrolled": true
   },
   "outputs": [],
   "source": [
    "riskFreeCurve = FlatForward(0, TARGET(), QuoteHandle(r), Actual360())\n",
    "volatilty = BlackConstantVol(0, TARGET(), QuoteHandle(sigma), Actual360())"
   ]
  },
  {
   "cell_type": "code",
   "execution_count": 18,
   "id": "7df7162c-50a9-44fc-9594-32c729acfdc0",
   "metadata": {},
   "outputs": [],
   "source": [
    "process = BlackScholesProcess(QuoteHandle(u),\n",
    "                              YieldTermStructureHandle(riskFreeCurve),\n",
    "                              BlackVolTermStructureHandle(volatilty))"
   ]
  },
  {
   "cell_type": "code",
   "execution_count": 19,
   "id": "9b885ab9-8012-4c99-b230-7f63503f465e",
   "metadata": {},
   "outputs": [],
   "source": [
    "option.setPricingEngine(AnalyticBarrierEngine(process))"
   ]
  },
  {
   "cell_type": "code",
   "execution_count": 20,
   "id": "7f856a30-c166-45c6-876e-e98f83543e78",
   "metadata": {},
   "outputs": [
    {
     "name": "stdout",
     "output_type": "stream",
     "text": [
      "1.3657980739109867\n"
     ]
    }
   ],
   "source": [
    "print(option.NPV())"
   ]
  },
  {
   "cell_type": "code",
   "execution_count": 21,
   "id": "eaf7a83f-04f9-4164-ac86-4f02aa0fba87",
   "metadata": {},
   "outputs": [
    {
     "ename": "RuntimeError",
     "evalue": "delta not provided",
     "output_type": "error",
     "traceback": [
      "\u001b[1;31m---------------------------------------------------------------------------\u001b[0m",
      "\u001b[1;31mRuntimeError\u001b[0m                              Traceback (most recent call last)",
      "\u001b[1;32m~\\AppData\\Local\\Temp\\ipykernel_21580\\500020342.py\u001b[0m in \u001b[0;36m?\u001b[1;34m()\u001b[0m\n\u001b[1;32m----> 1\u001b[1;33m \u001b[0mprint\u001b[0m\u001b[1;33m(\u001b[0m\u001b[0moption\u001b[0m\u001b[1;33m.\u001b[0m\u001b[0mdelta\u001b[0m\u001b[1;33m(\u001b[0m\u001b[1;33m)\u001b[0m\u001b[1;33m)\u001b[0m\u001b[1;33m\u001b[0m\u001b[1;33m\u001b[0m\u001b[0m\n\u001b[0m",
      "\u001b[1;32m~\\AppData\\Roaming\\Python\\Python312\\site-packages\\QuantLib\\QuantLib.py\u001b[0m in \u001b[0;36m?\u001b[1;34m(self)\u001b[0m\n\u001b[0;32m  17281\u001b[0m     \u001b[1;32mdef\u001b[0m \u001b[0mdelta\u001b[0m\u001b[1;33m(\u001b[0m\u001b[0mself\u001b[0m\u001b[1;33m)\u001b[0m\u001b[1;33m:\u001b[0m\u001b[1;33m\u001b[0m\u001b[1;33m\u001b[0m\u001b[0m\n\u001b[0;32m  17282\u001b[0m         \u001b[1;34mr\"\"\"delta(OneAssetOption self) -> Real\"\"\"\u001b[0m\u001b[1;33m\u001b[0m\u001b[1;33m\u001b[0m\u001b[0m\n\u001b[1;32m> 17283\u001b[1;33m         \u001b[1;32mreturn\u001b[0m \u001b[0m_QuantLib\u001b[0m\u001b[1;33m.\u001b[0m\u001b[0mOneAssetOption_delta\u001b[0m\u001b[1;33m(\u001b[0m\u001b[0mself\u001b[0m\u001b[1;33m)\u001b[0m\u001b[1;33m\u001b[0m\u001b[1;33m\u001b[0m\u001b[0m\n\u001b[0m",
      "\u001b[1;31mRuntimeError\u001b[0m: delta not provided"
     ]
    }
   ],
   "source": [
    "print(option.delta())"
   ]
  },
  {
   "cell_type": "code",
   "execution_count": 22,
   "id": "7d81c33e-2d30-4fe8-9d1b-823fe8f807bb",
   "metadata": {},
   "outputs": [],
   "source": [
    "## The engine doesn’t provide the delta, so asking for it raises an error.\n"
   ]
  },
  {
   "cell_type": "markdown",
   "id": "a9da0825-7c0b-4dc9-8076-1288b67d3e2d",
   "metadata": {},
   "source": [
    "## Numerical Calculation\n",
    "\n",
    "\n"
   ]
  },
  {
   "cell_type": "code",
   "execution_count": 23,
   "id": "ad36e91c-8e87-41cb-a970-1d058d70ad82",
   "metadata": {},
   "outputs": [],
   "source": [
    "u0 = u.value() ; h = 0.01"
   ]
  },
  {
   "cell_type": "code",
   "execution_count": 24,
   "id": "1f60dc5c-d9a4-4617-9485-33d9655d865d",
   "metadata": {},
   "outputs": [
    {
     "name": "stdout",
     "output_type": "stream",
     "text": [
      "1.3657980739109867\n"
     ]
    }
   ],
   "source": [
    "p0 = option.NPV() ; print(p0)"
   ]
  },
  {
   "cell_type": "code",
   "execution_count": 25,
   "id": "2c582d71-00a8-47ac-b6a9-d6463c8ab691",
   "metadata": {},
   "outputs": [
    {
     "name": "stdout",
     "output_type": "stream",
     "text": [
      "1.3688112201958078\n"
     ]
    }
   ],
   "source": [
    "u.setValue(u0+h)\n",
    "p_plus = option.NPV() ; print(p_plus)"
   ]
  },
  {
   "cell_type": "code",
   "execution_count": 26,
   "id": "60c48e6f-e753-4b7a-a73d-855466f5abc7",
   "metadata": {},
   "outputs": [
    {
     "name": "stdout",
     "output_type": "stream",
     "text": [
      "1.3627900998610203\n"
     ]
    }
   ],
   "source": [
    "u.setValue(u0-h)\n",
    "p_minus = option.NPV() ; print(p_minus)"
   ]
  },
  {
   "cell_type": "code",
   "execution_count": 27,
   "id": "5e384551-9e5c-4545-9c8d-d3bea4b1c23a",
   "metadata": {},
   "outputs": [],
   "source": [
    "u.setValue(u0)"
   ]
  },
  {
   "cell_type": "code",
   "execution_count": 28,
   "id": "a2ec2c56-683f-4139-ba85-a6af2dcbe694",
   "metadata": {},
   "outputs": [
    {
     "name": "stdout",
     "output_type": "stream",
     "text": [
      "0.3010560167393761\n",
      "0.05172234854633473\n"
     ]
    }
   ],
   "source": [
    "Delta = (p_plus - p_minus)/(2*h)\n",
    "Gamma = (p_plus - 2*p0 + p_minus)/(h*h)\n",
    "print(Delta)\n",
    "print(Gamma)"
   ]
  },
  {
   "cell_type": "code",
   "execution_count": 30,
   "id": "701a9371-33cb-4b4b-9297-a9738629241c",
   "metadata": {},
   "outputs": [
    {
     "name": "stdout",
     "output_type": "stream",
     "text": [
      "6.531038494281827\n"
     ]
    }
   ],
   "source": [
    "r0 = r.value() ; h = 0.0001\n",
    "r.setValue(r0+h) ; p_plus = option.NPV()\n",
    "r.setValue(r0)\n",
    "Rho = (p_plus - p0)/h ; print(Rho)"
   ]
  },
  {
   "cell_type": "code",
   "execution_count": 32,
   "id": "8cfa6b4c-146e-4dea-94a3-855d83b5e3b9",
   "metadata": {},
   "outputs": [
    {
     "name": "stdout",
     "output_type": "stream",
     "text": [
      "26.52519924198904\n"
     ]
    }
   ],
   "source": [
    "sigma0 = sigma.value() ; h = 0.0001\n",
    "sigma.setValue(sigma0+h) ; p_plus = option.NPV()\n",
    "sigma.setValue(sigma0)\n",
    "Vega = (p_plus - p0)/h ; print(Vega)"
   ]
  },
  {
   "cell_type": "code",
   "execution_count": 33,
   "id": "a375c92c-758a-49da-91ab-5766a51ea31b",
   "metadata": {},
   "outputs": [
    {
     "name": "stdout",
     "output_type": "stream",
     "text": [
      "-10.770888399441302\n"
     ]
    }
   ],
   "source": [
    "Settings.instance().evaluationDate = today+1\n",
    "p1 = option.NPV()\n",
    "h = 1.0/365\n",
    "Theta = (p1-p0)/h ; print(Theta)"
   ]
  },
  {
   "cell_type": "code",
   "execution_count": null,
   "id": "ef826a89-550f-4acf-8458-202044edb8b7",
   "metadata": {},
   "outputs": [],
   "source": []
  }
 ],
 "metadata": {
  "kernelspec": {
   "display_name": "Python 3 (ipykernel)",
   "language": "python",
   "name": "python3"
  },
  "language_info": {
   "codemirror_mode": {
    "name": "ipython",
    "version": 3
   },
   "file_extension": ".py",
   "mimetype": "text/x-python",
   "name": "python",
   "nbconvert_exporter": "python",
   "pygments_lexer": "ipython3",
   "version": "3.12.4"
  }
 },
 "nbformat": 4,
 "nbformat_minor": 5
}
